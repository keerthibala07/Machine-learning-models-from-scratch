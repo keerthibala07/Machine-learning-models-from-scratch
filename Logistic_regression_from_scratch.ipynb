{
  "nbformat": 4,
  "nbformat_minor": 0,
  "metadata": {
    "colab": {
      "provenance": [],
      "authorship_tag": "ABX9TyNJz5mWmSIHApUhz5KpoIK1",
      "include_colab_link": true
    },
    "kernelspec": {
      "name": "python3",
      "display_name": "Python 3"
    },
    "language_info": {
      "name": "python"
    }
  },
  "cells": [
    {
      "cell_type": "markdown",
      "metadata": {
        "id": "view-in-github",
        "colab_type": "text"
      },
      "source": [
        "<a href=\"https://colab.research.google.com/github/keerthibala07/Machine-learning-models-from-scratch/blob/main/Logistic_regression_from_scratch.ipynb\" target=\"_parent\"><img src=\"https://colab.research.google.com/assets/colab-badge.svg\" alt=\"Open In Colab\"/></a>"
      ]
    },
    {
      "cell_type": "code",
      "execution_count": null,
      "metadata": {
        "id": "Kz7o1GvMI9YZ"
      },
      "outputs": [],
      "source": [
        "import numpy as np\n",
        "import matplotlib.pyplot as plt\n"
      ]
    },
    {
      "cell_type": "code",
      "source": [
        "x=np.array([1,2,3,4,5,6,7,8,9,10])\n",
        "y=np.array([0,0,0,0,1,1,1,1,1,1])\n",
        "y.shape"
      ],
      "metadata": {
        "colab": {
          "base_uri": "https://localhost:8080/"
        },
        "id": "MfsOP_VeJUJH",
        "outputId": "02247431-777f-4824-8e8d-878725e5f22f"
      },
      "execution_count": null,
      "outputs": [
        {
          "output_type": "execute_result",
          "data": {
            "text/plain": [
              "(10,)"
            ]
          },
          "metadata": {},
          "execution_count": 71
        }
      ]
    },
    {
      "cell_type": "code",
      "source": [
        "def sigmoid(z):\n",
        "  return 1/(1+np.exp(-z))"
      ],
      "metadata": {
        "id": "MQchMDxLJd0t"
      },
      "execution_count": null,
      "outputs": []
    },
    {
      "cell_type": "code",
      "source": [
        "x=np.column_stack((np.ones(x.shape[0]),x))\n",
        "x.shape"
      ],
      "metadata": {
        "colab": {
          "base_uri": "https://localhost:8080/"
        },
        "id": "YVGwoOEpKYp3",
        "outputId": "3a4c5dc3-6125-4f81-99da-537888b0eb90"
      },
      "execution_count": null,
      "outputs": [
        {
          "output_type": "execute_result",
          "data": {
            "text/plain": [
              "(10, 2)"
            ]
          },
          "metadata": {},
          "execution_count": 73
        }
      ]
    },
    {
      "cell_type": "code",
      "source": [
        "num_features=x.shape[1]\n",
        "params=np.zeros(num_features)"
      ],
      "metadata": {
        "id": "8jHOJ0TNKoRN"
      },
      "execution_count": null,
      "outputs": []
    },
    {
      "cell_type": "code",
      "source": [
        "learning=0.1\n",
        "num_iteration=10000"
      ],
      "metadata": {
        "id": "WTkLELyZLFNO"
      },
      "execution_count": null,
      "outputs": []
    },
    {
      "cell_type": "code",
      "source": [
        "for _ in range(num_iteration):\n",
        "  z=np.dot(x,params)\n",
        "  y_pred=sigmoid(z)\n",
        "  gradient=np.dot(x.T,(y_pred-y))/len(y)\n",
        "  params-=learning*gradient"
      ],
      "metadata": {
        "id": "mjJTm_D1Ljq8"
      },
      "execution_count": null,
      "outputs": []
    },
    {
      "cell_type": "code",
      "source": [
        "x_range=np.linspace(x[:,1].min()-1,x[:,1].max()+1,100)\n",
        "y_range=sigmoid(params[0]+params[1]*x_range)\n",
        "y_range.shape"
      ],
      "metadata": {
        "colab": {
          "base_uri": "https://localhost:8080/"
        },
        "id": "T2GEvssHLz5c",
        "outputId": "f86d5637-c1ee-488b-99d5-5911a04029ff"
      },
      "execution_count": null,
      "outputs": [
        {
          "output_type": "execute_result",
          "data": {
            "text/plain": [
              "(100,)"
            ]
          },
          "metadata": {},
          "execution_count": 77
        }
      ]
    },
    {
      "cell_type": "code",
      "source": [
        "plt.plot(x_range, y_range, label='Logistic Regression Curve', color='green')\n",
        "plt.scatter(x[y == 0][:, 1], y[y == 0], label='class 0', color='blue')\n",
        "plt.scatter(x[y == 1][:, 1], y[y == 1], label='class 1', color='red')  # Corrected color for class 1\n",
        "plt.xlabel('Feature')\n",
        "plt.ylabel('Probability')\n",
        "plt.legend()\n",
        "plt.grid(True)\n",
        "plt.show()\n"
      ],
      "metadata": {
        "colab": {
          "base_uri": "https://localhost:8080/",
          "height": 449
        },
        "id": "wRKXlS7KNjxd",
        "outputId": "dede76e5-8870-48fd-cca9-57ccc6d58942"
      },
      "execution_count": null,
      "outputs": [
        {
          "output_type": "display_data",
          "data": {
            "text/plain": [
              "<Figure size 640x480 with 1 Axes>"
            ],
            "image/png": "[encoded data removed]"
          },
          "metadata": {}
        }
      ]
    },
    {
      "cell_type": "code",
      "source": [],
      "metadata": {
        "id": "bX2zZyBiOnJH"
      },
      "execution_count": null,
      "outputs": []
    }
  ]
}